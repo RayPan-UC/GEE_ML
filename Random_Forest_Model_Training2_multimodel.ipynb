{
  "cells": [
    {
      "cell_type": "code",
      "execution_count": 1,
      "metadata": {
        "id": "LZXj6xsCUuJS"
      },
      "outputs": [],
      "source": [
        "#Enable API here: https://console.cloud.google.com/apis/api/earthengine.googleapis.com\n",
        "import ee\n",
        "\n",
        "# Trigger the authentication flow.\n",
        "ee.Authenticate()\n",
        "\n",
        "# Initialize the library.\n",
        "ee.Initialize(project='ee-hungweipan2')"
      ]
    },
    {
      "cell_type": "code",
      "execution_count": 2,
      "metadata": {
        "colab": {
          "base_uri": "https://localhost:8080/"
        },
        "id": "UDAYEWqVVIWu",
        "outputId": "a873f250-31b6-478c-c4ca-88183093a039"
      },
      "outputs": [
        {
          "output_type": "stream",
          "name": "stdout",
          "text": [
            "Mounted at /content/drive\n"
          ]
        }
      ],
      "source": [
        "from google.colab import drive\n",
        "drive.mount('/content/drive')"
      ]
    },
    {
      "cell_type": "code",
      "execution_count": 3,
      "metadata": {
        "colab": {
          "base_uri": "https://localhost:8080/"
        },
        "id": "CjsHzQO5UtCW",
        "outputId": "ccdd31d1-24ba-44ca-f727-2d140df91e2b"
      },
      "outputs": [
        {
          "output_type": "stream",
          "name": "stdout",
          "text": [
            "Random Forest model training completed, and the training data export has started.\n"
          ]
        }
      ],
      "source": [
        "class FirePredictionModel:\n",
        "    def __init__(self, roi_name, country_name):\n",
        "        self.roi = ee.FeatureCollection(\"FAO/GAUL/2015/level1\") \\\n",
        "                    .filter(ee.Filter.eq('ADM1_NAME', roi_name)) \\\n",
        "                    .filter(ee.Filter.eq('ADM0_NAME', country_name))\n",
        "\n",
        "    def process_monthly_data(self, year, month):\n",
        "        start_date = ee.Date.fromYMD(year, month, 1)\n",
        "        end_date = start_date.advance(1, 'month')\n",
        "\n",
        "        # Fire data (label)\n",
        "        fire = ee.ImageCollection('MODIS/061/MOD14A1') \\\n",
        "            .filterBounds(self.roi) \\\n",
        "            .filterDate(start_date, end_date) \\\n",
        "            .max() \\\n",
        "            .select('FireMask') \\\n",
        "            .expression(\"(b('FireMask') == 7 || b('FireMask') == 8 || b('FireMask') == 9) ? 1 : 0\") \\\n",
        "            .rename('FireOccurred') \\\n",
        "            .toFloat()\n",
        "\n",
        "        # NDVI data\n",
        "        ndvi = ee.ImageCollection('MODIS/061/MOD13A2') \\\n",
        "            .filterBounds(self.roi) \\\n",
        "            .filterDate(start_date, end_date) \\\n",
        "            .mean() \\\n",
        "            .select('NDVI') \\\n",
        "            .multiply(0.0001) \\\n",
        "            .toFloat()\n",
        "\n",
        "        # Weather data\n",
        "        weather = ee.ImageCollection('ECMWF/ERA5_LAND/DAILY_AGGR') \\\n",
        "            .filterBounds(self.roi) \\\n",
        "            .filterDate(start_date, end_date) \\\n",
        "            .mean() \\\n",
        "            .select([\n",
        "                'temperature_2m',\n",
        "                'dewpoint_temperature_2m',\n",
        "                'u_component_of_wind_10m',\n",
        "                'v_component_of_wind_10m'\n",
        "            ])\n",
        "        wind_speed = weather.expression(\n",
        "            'sqrt(u**2 + v**2)', {\n",
        "                'u': weather.select('u_component_of_wind_10m'),\n",
        "                'v': weather.select('v_component_of_wind_10m')\n",
        "            }\n",
        "        ).rename('wind_speed')\n",
        "\n",
        "        relative_humidity = weather.expression(\n",
        "            '100 * (6.11 * pow(10, (7.5 * dew) / (237.7 + dew))) / (6.11 * pow(10, (7.5 * temp) / (237.7 + temp)))', {\n",
        "                'temp': weather.select('temperature_2m').subtract(273.15),  # Convert to Celsius\n",
        "                'dew': weather.select('dewpoint_temperature_2m').subtract(273.15)  # Convert to Celsius\n",
        "            })\n",
        "\n",
        "\n",
        "        # DEM data\n",
        "        dem = ee.ImageCollection('NRCan/CDEM').mosaic().clip(self.roi).toFloat().rename('DEM')\n",
        "\n",
        "        # Combine image\n",
        "        combined = fire \\\n",
        "            .addBands(ndvi.rename('NDVI')) \\\n",
        "            .addBands(weather.select(['temperature_2m']).subtract(273.15).rename(['temp'])) \\\n",
        "            .addBands(relative_humidity) \\\n",
        "            .addBands(wind_speed) \\\n",
        "            .addBands(dem)\n",
        "        return combined\n",
        "\n",
        "    def collect_training_data(self, years, months, scale=10000):\n",
        "        training_data = []\n",
        "        for year in years:\n",
        "            for month in months:\n",
        "                image = self.process_monthly_data(year, month)\n",
        "                samples = image.sample(\n",
        "                    region=self.roi.geometry(),\n",
        "                    scale=scale,\n",
        "                    geometries=True\n",
        "                )\n",
        "                training_data.append(samples)\n",
        "        return ee.FeatureCollection(training_data).flatten()\n",
        "\n",
        "\n",
        "    def export_training_data(self, training_data, description, file_format='CSV'):\n",
        "        task = ee.batch.Export.table.toDrive(\n",
        "            collection=training_data,\n",
        "            description=description,\n",
        "            fileFormat=file_format\n",
        "        )\n",
        "        task.start()\n",
        "\n",
        "# Initialize the model\n",
        "model = FirePredictionModel(roi_name='Alberta', country_name='Canada')\n",
        "\n",
        "# Define years and months\n",
        "years = list(range(2015, 2023))\n",
        "months = list(range(5, 10))\n",
        "\n",
        "# Collect training data\n",
        "training_data = model.collect_training_data(years, months)\n",
        "# testing_data = model.collect_training_data([2024], months)\n",
        "\n",
        "# Export training data to Google Drive\n",
        "# model.export_training_data(training_data, description='TrainingData2020_2023_5_10_coor')\n",
        "# model.export_training_data(testing_data, description='TestingData2024_5_10_coor')\n",
        "# model.export_training_data(training_data, description='TrainingData2015_2024_5_10_coor')\n",
        "model.export_training_data(training_data, description='TrainingData2015_2023_5_10_coor')\n",
        "\n",
        "print(\"Random Forest model training completed, and the training data export has started.\")\n"
      ]
    },
    {
      "cell_type": "code",
      "execution_count": 4,
      "metadata": {
        "id": "JYrAXPWPfs79"
      },
      "outputs": [],
      "source": [
        "import pandas as pd\n",
        "from sklearn.model_selection import train_test_split\n",
        "from sklearn.ensemble import RandomForestClassifier\n",
        "from sklearn.metrics import accuracy_score, classification_report, confusion_matrix, recall_score, f1_score\n",
        "import matplotlib.pyplot as plt\n",
        "import seaborn as sns\n",
        "import random\n",
        "import numpy as np"
      ]
    },
    {
      "cell_type": "code",
      "execution_count": 34,
      "metadata": {
        "colab": {
          "base_uri": "https://localhost:8080/"
        },
        "id": "o5wikRKIh7EH",
        "outputId": "59226a43-dce7-4a65-d39e-5ac4fad4bcfc"
      },
      "outputs": [
        {
          "output_type": "stream",
          "name": "stdout",
          "text": [
            "(521415, 8)\n"
          ]
        }
      ],
      "source": [
        "# data = pd.read_csv('/content/drive/MyDrive/TrainingData2023_5_10.csv')\n",
        "# data = pd.read_csv('/content/drive/MyDrive/TrainingData2020_2023_5_10.csv')\n",
        "# data = pd.read_csv('/content/drive/MyDrive/TrainingData2020_2023_5_10_coor.csv')\n",
        "data = pd.read_csv('/content/drive/MyDrive/TrainingData2015_2024_5_10_coor.csv')\n",
        "# data = pd.read_csv('/content/drive/MyDrive/fp-historical-wildfire-data-2006-2023.csv')\n",
        "# data = pd.read_csv('/content/drive/MyDrive/TrainingData2015_2023_5_10_coor_5000.csv')\n",
        "# data = pd.read_csv('/content/drive/MyDrive/TrainingData2015_2023_5_10_coor.csv')\n",
        "# test_data = pd.read_csv('/content/drive/MyDrive/TestingData2024_5_10_coor.csv')\n",
        "# print(testing_data)\n",
        "print(data.shape)"
      ]
    },
    {
      "cell_type": "code",
      "source": [
        "data.columns"
      ],
      "metadata": {
        "colab": {
          "base_uri": "https://localhost:8080/"
        },
        "id": "zH3VQw3sHBjQ",
        "outputId": "9bb7e1ca-5b03-4b6b-9a0e-45b23947bea4"
      },
      "execution_count": 35,
      "outputs": [
        {
          "output_type": "execute_result",
          "data": {
            "text/plain": [
              "Index(['system:index', 'DEM', 'FireOccurred', 'NDVI', 'constant', 'temp',\n",
              "       'wind_speed', '.geo'],\n",
              "      dtype='object')"
            ]
          },
          "metadata": {},
          "execution_count": 35
        }
      ]
    },
    {
      "cell_type": "code",
      "execution_count": 36,
      "metadata": {
        "id": "5uHHItzggQ74",
        "colab": {
          "base_uri": "https://localhost:8080/"
        },
        "outputId": "5223ec8e-d8eb-4a07-f7d9-fd82b42e6984"
      },
      "outputs": [
        {
          "output_type": "stream",
          "name": "stdout",
          "text": [
            "(1272, 8)\n",
            "       system:index    DEM  FireOccurred     NDVI   constant       temp  \\\n",
            "517886      44_8058  651.0           0.0  0.49510  58.114108  12.605311   \n",
            "284476      24_6388  516.0           0.0  0.45845  71.486003  10.831086   \n",
            "461957     39_10064  379.0           0.0  0.59775  62.959104  12.910680   \n",
            "290205       25_530  831.0           0.0  0.33600  55.724488  11.337686   \n",
            "231254     19_11101  301.0           0.0  0.54270  63.827842   3.377119   \n",
            "...             ...    ...           ...      ...        ...        ...   \n",
            "521313     44_11485  620.0           1.0  0.47795  64.146293  11.589697   \n",
            "521314     44_11486  609.0           1.0  0.47795  63.797939  11.629158   \n",
            "521350     44_11522  303.0           1.0  0.57210  64.119583  13.326982   \n",
            "521351     44_11523  298.0           1.0  0.57210  64.131354  13.328987   \n",
            "521352     44_11524  293.0           1.0  0.57210  64.131354  13.328987   \n",
            "\n",
            "        wind_speed                                               .geo  \n",
            "517886    1.240883  {\"geodesic\":false,\"type\":\"Point\",\"coordinates\"...  \n",
            "284476    0.655024  {\"geodesic\":false,\"type\":\"Point\",\"coordinates\"...  \n",
            "461957    0.604267  {\"geodesic\":false,\"type\":\"Point\",\"coordinates\"...  \n",
            "290205    0.705825  {\"geodesic\":false,\"type\":\"Point\",\"coordinates\"...  \n",
            "231254    1.301529  {\"geodesic\":false,\"type\":\"Point\",\"coordinates\"...  \n",
            "...            ...                                                ...  \n",
            "521313    1.200848  {\"geodesic\":false,\"type\":\"Point\",\"coordinates\"...  \n",
            "521314    1.227787  {\"geodesic\":false,\"type\":\"Point\",\"coordinates\"...  \n",
            "521350    1.347953  {\"geodesic\":false,\"type\":\"Point\",\"coordinates\"...  \n",
            "521351    1.342779  {\"geodesic\":false,\"type\":\"Point\",\"coordinates\"...  \n",
            "521352    1.342779  {\"geodesic\":false,\"type\":\"Point\",\"coordinates\"...  \n",
            "\n",
            "[2544 rows x 8 columns]\n"
          ]
        }
      ],
      "source": [
        "# downsample some non-fire data\n",
        "no_fire_data = data[data['FireOccurred']==0]\n",
        "fire_data = data[data['FireOccurred']==1]\n",
        "print(fire_data.shape)\n",
        "\n",
        "no_fire_index = np.arange(no_fire_data.shape[0])\n",
        "random.shuffle(no_fire_index)\n",
        "\n",
        "remain_no_fire_index = no_fire_index[0:len(fire_data)]\n",
        "no_fire_data = no_fire_data.iloc[remain_no_fire_index]\n",
        "\n",
        "data = pd.concat([no_fire_data, fire_data])\n",
        "\n",
        "print(data)"
      ]
    },
    {
      "cell_type": "code",
      "source": [
        "# split dataset\n",
        "X = data.drop('FireOccurred', axis=1)\n",
        "y = data['FireOccurred']\n",
        "\n",
        "X_train, X_test, y_train, y_test = train_test_split(X, y, test_size=0.3, random_state=42)"
      ],
      "metadata": {
        "id": "Bg8C0-mpu_wy"
      },
      "execution_count": 37,
      "outputs": []
    },
    {
      "cell_type": "code",
      "source": [
        "X_train_refine = X_train.drop(['system:index', '.geo'], axis=1)\n",
        "X_test_refine = X_test.drop(['system:index', '.geo'], axis=1)"
      ],
      "metadata": {
        "id": "r6JnPfxQx7iJ"
      },
      "execution_count": 38,
      "outputs": []
    },
    {
      "cell_type": "code",
      "source": [
        "# class weight\n",
        "no_fire = y_train.value_counts()[0]\n",
        "fire = y_train.value_counts()[1]\n",
        "\n",
        "class_weight = {0: no_fire / (no_fire + fire), 1: fire / (no_fire + fire)}\n",
        "# class_weight = {0: 0.3333, 1: 0.66666}\n",
        "print(class_weight)"
      ],
      "metadata": {
        "colab": {
          "base_uri": "https://localhost:8080/"
        },
        "id": "LTENIqMxtWPV",
        "outputId": "80e89a2f-d64a-40ea-e646-f668fb7583f1"
      },
      "execution_count": 39,
      "outputs": [
        {
          "output_type": "stream",
          "name": "stdout",
          "text": [
            "{0: 0.501123595505618, 1: 0.49887640449438203}\n"
          ]
        }
      ]
    },
    {
      "cell_type": "code",
      "execution_count": 40,
      "metadata": {
        "id": "oCiXs2qcie1F"
      },
      "outputs": [],
      "source": [
        "# random forest classifier model\n",
        "# rf = RandomForestClassifier(n_estimators=90, criterion='gini', random_state=42, class_weight=class_weight)\n",
        "rf = RandomForestClassifier(n_estimators=100, criterion='gini', random_state=42)\n",
        "\n",
        "rf.fit(X_train_refine, y_train)\n",
        "\n",
        "y_pred = rf.predict(X_test_refine)"
      ]
    },
    {
      "cell_type": "code",
      "source": [
        "# gradient boosting machine\n",
        "from sklearn.ensemble import GradientBoostingClassifier\n",
        "\n",
        "gb = GradientBoostingClassifier(n_estimators=100, learning_rate=0.1, max_depth=3, random_state=42)\n",
        "gb.fit(X_train_refine, y_train)\n",
        "\n",
        "y_pred = gb.predict(X_test_refine)"
      ],
      "metadata": {
        "id": "8elF36TKEq89"
      },
      "execution_count": null,
      "outputs": []
    },
    {
      "cell_type": "code",
      "source": [
        "from xgboost import XGBClassifier\n",
        "\n",
        "# Create regression matrices\n",
        "xgb_model = XGBClassifier(n_estimators=100, learning_rate=0.01,\n",
        "                          max_depth=0, objective='binary:logitraw',\n",
        "                          scale_pos_weight=10, random_state=42)\n",
        "xgb_model.fit(X_train_refine, y_train)\n",
        "\n",
        "y_pred = xgb_model.predict(X_test_refine)"
      ],
      "metadata": {
        "id": "5dvPuqyOG5J_"
      },
      "execution_count": null,
      "outputs": []
    },
    {
      "cell_type": "code",
      "source": [
        "from sklearn import svm\n",
        "svm_model = svm.SVC(kernel='rbf', class_weight=class_weight)\n",
        "svm_model.fit(X_train_refine, y_train)\n",
        "\n",
        "y_pred = svm_model.predict(X_test_refine)"
      ],
      "metadata": {
        "id": "f43G4kXbKrhE"
      },
      "execution_count": null,
      "outputs": []
    },
    {
      "cell_type": "code",
      "execution_count": 41,
      "metadata": {
        "id": "e_OkanTui09L",
        "colab": {
          "base_uri": "https://localhost:8080/",
          "height": 608
        },
        "outputId": "5b7587e6-496d-4958-b8a9-0e9d7e6607da"
      },
      "outputs": [
        {
          "output_type": "stream",
          "name": "stdout",
          "text": [
            "              precision    recall  f1-score   support\n",
            "\n",
            "         0.0       0.88      0.87      0.87       380\n",
            "         1.0       0.87      0.89      0.88       384\n",
            "\n",
            "    accuracy                           0.88       764\n",
            "   macro avg       0.88      0.88      0.88       764\n",
            "weighted avg       0.88      0.88      0.88       764\n",
            "\n"
          ]
        },
        {
          "output_type": "display_data",
          "data": {
            "text/plain": [
              "<Figure size 640x480 with 2 Axes>"
            ],
            "image/png": "[encoded data removed]"
          },
          "metadata": {}
        }
      ],
      "source": [
        "cm = confusion_matrix(y_test, y_pred)\n",
        "cm_pd = pd.DataFrame(cm, columns=['Pred. No Fire', 'Pred. Fire'], index=['Actual No Fire', 'Actual Fire'])\n",
        "ax = plt.axes()\n",
        "sns.heatmap(cm_pd, annot=True, fmt='d', cmap='crest', ax=ax)\n",
        "ax.set_title('2015-2024 Training & Prediction Confusion Matrix')\n",
        "\n",
        "report = classification_report(y_test, y_pred)\n",
        "print(report)"
      ]
    },
    {
      "cell_type": "code",
      "source": [
        "data = pd.read_csv('/content/drive/MyDrive/TrainingData2015_2023_5_10_coor.csv')\n",
        "test_data = pd.read_csv('/content/drive/MyDrive/TestingData2024_5_10_coor.csv')\n",
        "print(data.shape)"
      ],
      "metadata": {
        "colab": {
          "base_uri": "https://localhost:8080/"
        },
        "id": "NQvlHtXWjJGz",
        "outputId": "a6596ceb-eb53-4183-a6cb-3465ad77649b"
      },
      "execution_count": 12,
      "outputs": [
        {
          "output_type": "stream",
          "name": "stdout",
          "text": [
            "(463480, 8)\n"
          ]
        }
      ]
    },
    {
      "cell_type": "code",
      "source": [
        "# downsample some non-fire data\n",
        "no_fire_data = data[data['FireOccurred']==0]\n",
        "fire_data = data[data['FireOccurred']==1]\n",
        "print(fire_data.shape)\n",
        "\n",
        "no_fire_index = np.arange(no_fire_data.shape[0])\n",
        "random.shuffle(no_fire_index)\n",
        "\n",
        "remain_no_fire_index = no_fire_index[0:len(fire_data)]\n",
        "no_fire_data = no_fire_data.iloc[remain_no_fire_index]\n",
        "\n",
        "data = pd.concat([no_fire_data, fire_data])\n",
        "\n",
        "print(data)"
      ],
      "metadata": {
        "colab": {
          "base_uri": "https://localhost:8080/"
        },
        "id": "K3fIR5EbjTRi",
        "outputId": "8af0b668-7c7b-45da-89db-8b5edb2d4a4a"
      },
      "execution_count": 13,
      "outputs": [
        {
          "output_type": "stream",
          "name": "stdout",
          "text": [
            "(558, 8)\n",
            "       system:index    DEM  FireOccurred     NDVI   constant       temp  \\\n",
            "157712      13_7081  551.0           0.0  0.72210  64.433732  16.872682   \n",
            "219901     18_11335  256.0           0.0  0.69510  56.379399  15.973875   \n",
            "238712      20_6972  582.0           0.0  0.55315  44.232472  10.622187   \n",
            "287581      24_9493  489.0           0.0  0.52090  69.035838  10.028340   \n",
            "42890        3_8129  298.0           0.0  0.69835  62.085788  17.455041   \n",
            "...             ...    ...           ...      ...        ...        ...   \n",
            "449837      38_9531  256.0           1.0  0.75880  61.110356  19.229084   \n",
            "449838      38_9532  259.0           1.0  0.75880  61.211996  19.197133   \n",
            "462811     39_10918  303.0           1.0  0.55260  67.909508  12.845202   \n",
            "462812     39_10919  323.0           1.0  0.55260  68.445725  12.918441   \n",
            "462813     39_10920  306.0           1.0  0.55260  69.110396  13.021957   \n",
            "\n",
            "        wind_speed                                               .geo  \n",
            "157712    1.308506  {\"geodesic\":false,\"type\":\"Point\",\"coordinates\"...  \n",
            "219901    0.757157  {\"geodesic\":false,\"type\":\"Point\",\"coordinates\"...  \n",
            "238712    0.358885  {\"geodesic\":false,\"type\":\"Point\",\"coordinates\"...  \n",
            "287581    0.372450  {\"geodesic\":false,\"type\":\"Point\",\"coordinates\"...  \n",
            "42890     0.652805  {\"geodesic\":false,\"type\":\"Point\",\"coordinates\"...  \n",
            "...            ...                                                ...  \n",
            "449837    0.347467  {\"geodesic\":false,\"type\":\"Point\",\"coordinates\"...  \n",
            "449838    0.370168  {\"geodesic\":false,\"type\":\"Point\",\"coordinates\"...  \n",
            "462811    0.992739  {\"geodesic\":false,\"type\":\"Point\",\"coordinates\"...  \n",
            "462812    1.065740  {\"geodesic\":false,\"type\":\"Point\",\"coordinates\"...  \n",
            "462813    1.132338  {\"geodesic\":false,\"type\":\"Point\",\"coordinates\"...  \n",
            "\n",
            "[1116 rows x 8 columns]\n"
          ]
        }
      ]
    },
    {
      "cell_type": "code",
      "source": [
        "# split dataset\n",
        "X_train = data.drop('FireOccurred', axis=1)\n",
        "y_train = data['FireOccurred']\n",
        "\n",
        "X_test = test_data.drop('FireOccurred', axis=1)\n",
        "y_test = test_data['FireOccurred']"
      ],
      "metadata": {
        "id": "_x5Vewe-jYEt"
      },
      "execution_count": 14,
      "outputs": []
    },
    {
      "cell_type": "code",
      "source": [
        "X_train_refine = X_train.drop(['system:index', '.geo'], axis=1)\n",
        "X_test_refine = X_test.drop(['system:index', '.geo'], axis=1)"
      ],
      "metadata": {
        "id": "vM9eKag7kb5L"
      },
      "execution_count": 15,
      "outputs": []
    },
    {
      "cell_type": "code",
      "source": [
        "# class weight\n",
        "no_fire = y_train.value_counts()[0]\n",
        "fire = y_train.value_counts()[1]\n",
        "\n",
        "class_weight = {0: no_fire / (no_fire + fire), 1: fire / (no_fire + fire)}\n",
        "# class_weight = {0: 0.3333, 1: 0.66666}\n",
        "print(class_weight)"
      ],
      "metadata": {
        "colab": {
          "base_uri": "https://localhost:8080/"
        },
        "id": "CN_hoDDwkeXp",
        "outputId": "2356165c-b65a-43ad-c56b-a4da55e3cda2"
      },
      "execution_count": 16,
      "outputs": [
        {
          "output_type": "stream",
          "name": "stdout",
          "text": [
            "{0: 0.5, 1: 0.5}\n"
          ]
        }
      ]
    },
    {
      "cell_type": "code",
      "source": [
        "# random forest classifier model\n",
        "rf = RandomForestClassifier(n_estimators=100, criterion='gini', random_state=42)\n",
        "\n",
        "rf.fit(X_train_refine, y_train)\n",
        "\n",
        "y_pred = rf.predict(X_test_refine)"
      ],
      "metadata": {
        "id": "GGncSxRfkiIf"
      },
      "execution_count": 17,
      "outputs": []
    },
    {
      "cell_type": "code",
      "source": [
        "cm = confusion_matrix(y_test, y_pred)\n",
        "cm_pd = pd.DataFrame(cm, columns=['Pred. No Fire', 'Pred. Fire'], index=['Actual No Fire', 'Actual Fire'])\n",
        "\n",
        "ax = plt.axes()\n",
        "sns.heatmap(cm_pd, annot=True, fmt='d', cmap='crest', ax=ax)\n",
        "ax.set_title('2015-2023 Training & 2024 Prediction Confusion Matrix')\n",
        "\n",
        "report = classification_report(y_test, y_pred)\n",
        "print(report)"
      ],
      "metadata": {
        "colab": {
          "base_uri": "https://localhost:8080/",
          "height": 608
        },
        "id": "xMma6oISkp2I",
        "outputId": "68e5e064-b7bd-437d-f813-241ad584aead"
      },
      "execution_count": 19,
      "outputs": [
        {
          "output_type": "stream",
          "name": "stdout",
          "text": [
            "              precision    recall  f1-score   support\n",
            "\n",
            "         0.0       1.00      0.91      0.95     57748\n",
            "         1.0       0.01      0.16      0.01       187\n",
            "\n",
            "    accuracy                           0.91     57935\n",
            "   macro avg       0.50      0.54      0.48     57935\n",
            "weighted avg       0.99      0.91      0.95     57935\n",
            "\n"
          ]
        },
        {
          "output_type": "display_data",
          "data": {
            "text/plain": [
              "<Figure size 640x480 with 2 Axes>"
            ],
            "image/png": "[encoded data removed]"
          },
          "metadata": {}
        }
      ]
    }
  ],
  "metadata": {
    "colab": {
      "provenance": []
    },
    "kernelspec": {
      "display_name": "Python 3",
      "name": "python3"
    },
    "language_info": {
      "name": "python"
    }
  },
  "nbformat": 4,
  "nbformat_minor": 0
}