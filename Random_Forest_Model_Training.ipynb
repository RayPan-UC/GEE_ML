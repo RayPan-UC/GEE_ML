{
  "nbformat": 4,
  "nbformat_minor": 0,
  "metadata": {
    "colab": {
      "provenance": []
    },
    "kernelspec": {
      "name": "python3",
      "display_name": "Python 3"
    },
    "language_info": {
      "name": "python"
    }
  },
  "cells": [
    {
      "cell_type": "code",
      "source": [
        "#Enable API here: https://console.cloud.google.com/apis/api/earthengine.googleapis.com\n",
        "import ee\n",
        "\n",
        "# Trigger the authentication flow.\n",
        "ee.Authenticate()\n",
        "\n",
        "# Initialize the library.\n",
        "ee.Initialize(project='ee-hungweipan2-1')"
      ],
      "metadata": {
        "colab": {
          "base_uri": "https://localhost:8080/"
        },
        "id": "LZXj6xsCUuJS",
        "outputId": "2d69c90b-a99e-436a-95db-bd41255431e7"
      },
      "execution_count": 1,
      "outputs": [
        {
          "output_type": "stream",
          "name": "stderr",
          "text": [
            "*** Earth Engine *** Share your feedback by taking our Annual Developer Satisfaction Survey: https://google.qualtrics.com/jfe/form/SV_0JLhFqfSY1uiEaW?source=Init\n"
          ]
        }
      ]
    },
    {
      "cell_type": "code",
      "source": [
        "from google.colab import drive\n",
        "drive.mount('/content/drive')"
      ],
      "metadata": {
        "colab": {
          "base_uri": "https://localhost:8080/"
        },
        "id": "UDAYEWqVVIWu",
        "outputId": "ffccb9d7-4988-467c-b393-34f34926e846"
      },
      "execution_count": 2,
      "outputs": [
        {
          "output_type": "stream",
          "name": "stdout",
          "text": [
            "Mounted at /content/drive\n"
          ]
        }
      ]
    },
    {
      "cell_type": "code",
      "source": [
        "\n",
        "class FirePredictionModel:\n",
        "    def __init__(self, roi_name, country_name):\n",
        "        self.roi = ee.FeatureCollection(\"FAO/GAUL/2015/level1\") \\\n",
        "                    .filter(ee.Filter.eq('ADM1_NAME', roi_name)) \\\n",
        "                    .filter(ee.Filter.eq('ADM0_NAME', country_name))\n",
        "\n",
        "    def process_monthly_data(self, year, month):\n",
        "        start_date = ee.Date.fromYMD(year, month, 1)\n",
        "        end_date = start_date.advance(1, 'month')\n",
        "\n",
        "        # Fire data (label)\n",
        "        fire = ee.ImageCollection('MODIS/061/MOD14A1') \\\n",
        "            .filterBounds(self.roi) \\\n",
        "            .filterDate(start_date, end_date) \\\n",
        "            .max() \\\n",
        "            .select('FireMask') \\\n",
        "            .expression(\"(b('FireMask') == 7 || b('FireMask') == 8 || b('FireMask') == 9) ? 1 : 0\") \\\n",
        "            .rename('FireOccurred') \\\n",
        "            .toFloat()\n",
        "\n",
        "        # NDVI data\n",
        "        ndvi = ee.ImageCollection('MODIS/061/MOD13A2') \\\n",
        "            .filterBounds(self.roi) \\\n",
        "            .filterDate(start_date, end_date) \\\n",
        "            .mean() \\\n",
        "            .select('NDVI') \\\n",
        "            .multiply(0.0001) \\\n",
        "            .toFloat()\n",
        "\n",
        "        # Weather data\n",
        "        weather = ee.ImageCollection('ECMWF/ERA5_LAND/DAILY_AGGR') \\\n",
        "            .filterBounds(self.roi) \\\n",
        "            .filterDate(start_date, end_date) \\\n",
        "            .mean() \\\n",
        "            .select([\n",
        "                'temperature_2m',\n",
        "                'dewpoint_temperature_2m',\n",
        "                'u_component_of_wind_10m',\n",
        "                'v_component_of_wind_10m'\n",
        "            ])\n",
        "        wind_speed = weather.expression(\n",
        "            'sqrt(u**2 + v**2)', {\n",
        "                'u': weather.select('u_component_of_wind_10m'),\n",
        "                'v': weather.select('v_component_of_wind_10m')\n",
        "            }\n",
        "        ).rename('wind_speed')\n",
        "\n",
        "        relative_humidity = weather.expression(\n",
        "            '100 * (6.11 * pow(10, (7.5 * dew) / (237.7 + dew))) / (6.11 * pow(10, (7.5 * temp) / (237.7 + temp)))', {\n",
        "                'temp': weather.select('temperature_2m').subtract(273.15),  # Convert to Celsius\n",
        "                'dew': weather.select('dewpoint_temperature_2m').subtract(273.15)  # Convert to Celsius\n",
        "            }\n",
        "\n",
        "\n",
        "        # DEM data\n",
        "        dem = ee.ImageCollection('NRCan/CDEM').mosaic().clip(self.roi).toFloat().rename('DEM')\n",
        "\n",
        "        # Combine image\n",
        "        combined = fire \\\n",
        "            .addBands(ndvi.rename('NDVI')) \\\n",
        "            .addBands(weather.select(['temperature_2m']).subtract(273.15).rename(['temp'])) \\\n",
        "            .addBands(relative_humidity) \\\n",
        "            .addBands(wind_speed) \\\n",
        "            .addBands(dem)\n",
        "        return combined\n",
        "\n",
        "    def collect_training_data(self, years, months, scale=1000):\n",
        "        training_data = []\n",
        "        for year in years:\n",
        "            for month in months:\n",
        "                image = self.process_monthly_data(year, month)\n",
        "                samples = image.sample(\n",
        "                    region=self.roi.geometry(),\n",
        "                    scale=scale,\n",
        "                    geometries=False\n",
        "                )\n",
        "                training_data.append(samples)\n",
        "        return ee.FeatureCollection(training_data).flatten()\n",
        "\n",
        "\n",
        "    def export_training_data(self, training_data, description, file_format='CSV'):\n",
        "        task = ee.batch.Export.table.toDrive(\n",
        "            collection=training_data,\n",
        "            description=description,\n",
        "            fileFormat=file_format\n",
        "        )\n",
        "        task.start()\n",
        "\n",
        "# Initialize the model\n",
        "model = FirePredictionModel(roi_name='Alberta', country_name='Canada')\n",
        "\n",
        "# Define years and months\n",
        "years = list(range(2023, 2024))\n",
        "months = list(range(8, 9))\n",
        "\n",
        "# Collect training data\n",
        "training_data = model.collect_training_data(years, months)\n",
        "\n",
        "\n",
        "# Export training data to Google Drive\n",
        "model.export_training_data(training_data/, description='TrainingData2023_8')\n",
        "\n",
        "print(\"Random Forest model training completed, and the training data export has started.\")\n"
      ],
      "metadata": {
        "id": "CjsHzQO5UtCW"
      },
      "execution_count": null,
      "outputs": []
    }
  ]
}